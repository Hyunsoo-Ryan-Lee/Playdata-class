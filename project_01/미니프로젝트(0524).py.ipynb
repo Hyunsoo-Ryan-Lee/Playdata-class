{
 "cells": [
  {
   "cell_type": "code",
   "execution_count": 141,
   "metadata": {},
   "outputs": [
    {
     "name": "stdout",
     "output_type": "stream",
     "text": [
      "Overwriting numbers.txt\n"
     ]
    }
   ],
   "source": [
    "%%writefile numbers.txt\n",
    "김철수 010-1234-1234\n",
    "김미미 010-2222-2222\n",
    "박종민 010-2564-5555\n",
    "이우석 010-5556-5556\n",
    "김철순 010-1234-5678\n",
    "홍길동 010-8967-8957\n",
    "Bryan  010-4675-0202"
   ]
  },
  {
   "cell_type": "code",
   "execution_count": 142,
   "metadata": {},
   "outputs": [],
   "source": [
    "n = open('numbers.txt','a',encoding='utf-8')\n",
    "\n",
    "n.write('강하늘 010-1538-5659\\n')\n",
    "n.write('손가락 010-6879-3215\\n')\n",
    "n.close()"
   ]
  },
  {
   "cell_type": "code",
   "execution_count": 143,
   "metadata": {},
   "outputs": [
    {
     "name": "stdout",
     "output_type": "stream",
     "text": [
      "김철수 010-1234-1234\n",
      "김미미 010-2222-2222\n",
      "박종민 010-2564-5555\n",
      "이우석 010-5556-5556\n",
      "김철순 010-1234-5678\n",
      "홍길동 010-8967-8957\n",
      "Bryan  010-4675-0202\n",
      "강하늘 010-1538-5659\n",
      "손가락 010-6879-3215\n",
      "\n"
     ]
    }
   ],
   "source": [
    "with open('numbers.txt','r',encoding='utf-8') as n:\n",
    "    print(n.read())"
   ]
  },
  {
   "cell_type": "code",
   "execution_count": 144,
   "metadata": {},
   "outputs": [
    {
     "name": "stdout",
     "output_type": "stream",
     "text": [
      "['김철수 010-1234-1234\\n', '김미미 010-2222-2222\\n', '박종민 010-2564-5555\\n', '이우석 010-5556-5556\\n', '김철순 010-1234-5678\\n', '홍길동 010-8967-8957\\n', 'Bryan  010-4675-0202\\n', '강하늘 010-1538-5659\\n', '손가락 010-6879-3215\\n']\n"
     ]
    }
   ],
   "source": [
    "with open('numbers.txt','r',encoding='utf-8') as n:\n",
    "    print(n.readlines())"
   ]
  },
  {
   "cell_type": "code",
   "execution_count": 148,
   "metadata": {},
   "outputs": [
    {
     "name": "stdout",
     "output_type": "stream",
     "text": [
      "검색어 입력 : 강\n",
      "매치되는 이름이 없습니다.\n"
     ]
    }
   ],
   "source": [
    "with open('numbers.txt','r',encoding='utf-8') as n:\n",
    "    search = input('검색어 입력 : ')\n",
    "    a = 0\n",
    "    for i in n.readlines():\n",
    "        if i[:3] == search:\n",
    "            a += 1\n",
    "            print('{0}({1})에게 전화를 겁니다.'.format(i[:3],i[3:-1]))\n",
    "    if a == 0:\n",
    "        print('매치되는 이름이 없습니다.')\n",
    "        "
   ]
  },
  {
   "cell_type": "code",
   "execution_count": 149,
   "metadata": {},
   "outputs": [],
   "source": [
    "class Iphone1:\n",
    "    def __init__(self, name, number, version=1.0):\n",
    "        self.name = name\n",
    "        self.number = number\n",
    "        self.version = version\n",
    "\n",
    "    def update_version(self):\n",
    "        if self.version == 1.0:\n",
    "            print('현재 폰의 버전은 [Version {}] 입니다.'.format(self.version))\n",
    "\n",
    "    def calling(self):\n",
    "        with open('numbers.txt','r',encoding='utf-8') as n:\n",
    "            search = input('검색어 입력 : ')\n",
    "            a = 0\n",
    "            for i in n.readlines():\n",
    "                if i[:3] == search:\n",
    "                    a += 1\n",
    "                    print('{0}({1})에게 전화를 겁니다.'.format(i[:3],i[3:-1]))\n",
    "            if a == 0:\n",
    "                print('매치되는 이름이 없습니다.')\n",
    "        \n",
    "    def contact(self):\n",
    "        with open('numbers.txt','r',encoding='utf-8') as n:\n",
    "            search = input('전화번호부 검색 : ')\n",
    "            search_number = {}\n",
    "            for i in n.readlines():\n",
    "                if i.startswith(search):\n",
    "                    search_number[i[:4]] = i[-14:-1]\n",
    "            print(search_number)\n",
    "            if len(search_number) == 0:\n",
    "                print(\"'{}'로 시작하는 사람이 없습니다.\".format(search))\n",
    "            \n",
    "        \n",
    "\n",
    "class Iphone2(Iphone1):\n",
    "    def __init__(self, name, number, version=2.0):\n",
    "        Iphone1.__init__(self, name, number, version)\n",
    "\n",
    "    def update_version(self):\n",
    "        if self.version == 2.0:\n",
    "            print('현재 폰의 버전은 [Version {}] 입니다.'.format(self.version))\n",
    "\n",
    "\n",
    "    def message(self):\n",
    "        phone_number = input('번호를 입력하세요 : ')\n",
    "        text = input('내용을 입력하세요 : ')\n",
    "        print('[문자 전송 완료]\\n번호 : {0}\\n내용 : {1}'\\\n",
    "            .format(phone_number,text))\n",
    "\n",
    "class Iphone3(Iphone2):\n",
    "    def __init__(self, name, number, version=3.0):\n",
    "        Iphone2.__init__(self, name, number, version)\n",
    "\n",
    "    def update_version(self):\n",
    "        if self.version == 3.0:\n",
    "            print('현재 폰의 버전은 [Version {}] 입니다.'.format(self.version))\n",
    "\n",
    "    def wifi(self):\n",
    "        wifi_pw = 1234\n",
    "        input_pw=0\n",
    "        while input_pw != wifi_pw:\n",
    "            input_pw = int(input('wifi 비밀번호 입력 : '))\n",
    "            if input_pw == wifi_pw :\n",
    "                print('WIFI에 연결되었습니다.')\n",
    "            else :\n",
    "                print('비밀번호 불일치')"
   ]
  },
  {
   "cell_type": "code",
   "execution_count": 150,
   "metadata": {},
   "outputs": [
    {
     "name": "stdout",
     "output_type": "stream",
     "text": [
      "검색어 입력 : 김철수\n",
      "김철수( 010-1234-1234)에게 전화를 겁니다.\n"
     ]
    }
   ],
   "source": [
    "p1 = Iphone1('이현수','010-8484-8484')\n",
    "p1.calling()"
   ]
  }
 ],
 "metadata": {
  "kernelspec": {
   "display_name": "Python 3",
   "language": "python",
   "name": "python3"
  },
  "language_info": {
   "codemirror_mode": {
    "name": "ipython",
    "version": 3
   },
   "file_extension": ".py",
   "mimetype": "text/x-python",
   "name": "python",
   "nbconvert_exporter": "python",
   "pygments_lexer": "ipython3",
   "version": "3.8.5"
  }
 },
 "nbformat": 4,
 "nbformat_minor": 4
}
